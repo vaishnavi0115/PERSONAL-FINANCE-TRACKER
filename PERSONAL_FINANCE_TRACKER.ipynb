{
  "nbformat": 4,
  "nbformat_minor": 0,
  "metadata": {
    "colab": {
      "provenance": []
    },
    "kernelspec": {
      "name": "python3",
      "display_name": "Python 3"
    },
    "language_info": {
      "name": "python"
    }
  },
  "cells": [
    {
      "cell_type": "code",
      "execution_count": 1,
      "metadata": {
        "colab": {
          "base_uri": "https://localhost:8080/"
        },
        "id": "-K6MAqq7ZkWF",
        "outputId": "4f296055-f5d8-4721-8b1f-c9d282be4c58"
      },
      "outputs": [
        {
          "output_type": "stream",
          "name": "stdout",
          "text": [
            "\n",
            "--- Personal Finance Tracker ---\n",
            "1. Add transaction\n",
            "2. View financial summary\n",
            "3. Exit\n",
            "Choose an option: 1\n",
            "Enter type (income/expense): income\n",
            "Enter category (e.g., Salary, Grocery, etc.): grocery\n",
            "Enter amount: 1000\n",
            "Enter date (YYYY-MM-DD): 12/10/2024\n",
            "Transaction added successfully!\n",
            "\n",
            "--- Personal Finance Tracker ---\n",
            "1. Add transaction\n",
            "2. View financial summary\n",
            "3. Exit\n",
            "Choose an option: 3\n",
            "Goodbye!\n"
          ]
        }
      ],
      "source": [
        "import csv\n",
        "import os\n",
        "\n",
        "# Define file path\n",
        "FILE_PATH = 'finance_data.csv'\n",
        "\n",
        "# Check if file exists, create file with headers if not\n",
        "if not os.path.exists(FILE_PATH):\n",
        "    with open(FILE_PATH, mode='w', newline='') as file:\n",
        "        writer = csv.writer(file)\n",
        "        writer.writerow([\"Type\", \"Category\", \"Amount\", \"Date\"])\n",
        "\n",
        "def add_transaction():\n",
        "    \"\"\"Add income or expense to the tracker.\"\"\"\n",
        "    type_ = input(\"Enter type (income/expense): \").strip().lower()\n",
        "    if type_ not in ['income', 'expense']:\n",
        "        print(\"Invalid type, try again.\")\n",
        "        return\n",
        "\n",
        "    category = input(\"Enter category (e.g., Salary, Grocery, etc.): \").strip()\n",
        "    amount = float(input(\"Enter amount: \").strip())\n",
        "    date = input(\"Enter date (YYYY-MM-DD): \").strip()\n",
        "\n",
        "    # Append the data to the CSV file\n",
        "    with open(FILE_PATH, mode='a', newline='') as file:\n",
        "        writer = csv.writer(file)\n",
        "        writer.writerow([type_, category, amount, date])\n",
        "    print(\"Transaction added successfully!\")\n",
        "\n",
        "def view_summary():\n",
        "    \"\"\"Display a summary of your finances.\"\"\"\n",
        "    total_income = 0\n",
        "    total_expenses = 0\n",
        "    expenses_by_category = {}\n",
        "\n",
        "    # Read the CSV file\n",
        "    with open(FILE_PATH, mode='r') as file:\n",
        "        reader = csv.reader(file)\n",
        "        next(reader)  # Skip the header row\n",
        "        for row in reader:\n",
        "            type_, category, amount, date = row\n",
        "            amount = float(amount)\n",
        "            if type_ == 'income':\n",
        "                total_income += amount\n",
        "            elif type_ == 'expense':\n",
        "                total_expenses += amount\n",
        "                if category not in expenses_by_category:\n",
        "                    expenses_by_category[category] = 0\n",
        "                expenses_by_category[category] += amount\n",
        "\n",
        "    # Print summary\n",
        "    print(\"\\n--- Financial Summary ---\")\n",
        "    print(f\"Total Income: ${total_income:.2f}\")\n",
        "    print(f\"Total Expenses: ${total_expenses:.2f}\")\n",
        "    print(f\"Balance: ${total_income - total_expenses:.2f}\")\n",
        "    print(\"\\nExpenses by Category:\")\n",
        "    for category, total in expenses_by_category.items():\n",
        "        print(f\"  {category}: ${total:.2f}\")\n",
        "\n",
        "def main():\n",
        "    \"\"\"Main function to run the finance tracker.\"\"\"\n",
        "    while True:\n",
        "        print(\"\\n--- Personal Finance Tracker ---\")\n",
        "        print(\"1. Add transaction\")\n",
        "        print(\"2. View financial summary\")\n",
        "        print(\"3. Exit\")\n",
        "\n",
        "        choice = input(\"Choose an option: \").strip()\n",
        "\n",
        "        if choice == '1':\n",
        "            add_transaction()\n",
        "        elif choice == '2':\n",
        "            view_summary()\n",
        "        elif choice == '3':\n",
        "            print(\"Goodbye!\")\n",
        "            break\n",
        "        else:\n",
        "            print(\"Invalid option, try again.\")\n",
        "\n",
        "if __name__ == \"__main__\":\n",
        "    main()\n"
      ]
    }
  ]
}